{
 "cells": [
  {
   "cell_type": "code",
   "execution_count": null,
   "metadata": {},
   "outputs": [],
   "source": [
    "TE = joinpath(homedir(), \"Downloads\", \"TemplatePkgRepository.test\", \"\")\n",
    "\n",
    "if isdir(TE)\n",
    "\n",
    "    rm(TE; recursive = true)\n",
    "\n",
    "end\n",
    "\n",
    "mkdir(TE)\n",
    "\n",
    "println(\"Made \", TE, \".\")"
   ]
  },
  {
   "cell_type": "code",
   "execution_count": null,
   "metadata": {},
   "outputs": [],
   "source": [
    "using Revise"
   ]
  },
  {
   "cell_type": "markdown",
   "metadata": {},
   "source": [
    "---"
   ]
  },
  {
   "cell_type": "code",
   "execution_count": null,
   "metadata": {
    "execution": {
     "iopub.execute_input": "2021-10-14T18:25:54.055222Z",
     "iopub.status.busy": "2021-10-14T18:25:53.342490Z",
     "iopub.status.idle": "2021-10-14T18:26:10.352867Z",
     "shell.execute_reply": "2021-10-14T18:26:10.352370Z"
    }
   },
   "outputs": [],
   "source": [
    "using TemplatePkgRepository"
   ]
  },
  {
   "cell_type": "markdown",
   "metadata": {},
   "source": [
    "---"
   ]
  },
  {
   "cell_type": "code",
   "execution_count": null,
   "metadata": {},
   "outputs": [],
   "source": [
    "rm(TE; recursive = true)\n",
    "\n",
    "println(\"Removed \", TE, \".\")"
   ]
  }
 ],
 "metadata": {
  "@webio": {
   "lastCommId": null,
   "lastKernelId": null
  },
  "kernelspec": {
   "display_name": "Julia 1.6.3",
   "language": "julia",
   "name": "julia-1.6"
  },
  "language_info": {
   "file_extension": ".jl",
   "mimetype": "application/julia",
   "name": "julia",
   "version": "1.6.3"
  }
 },
 "nbformat": 4,
 "nbformat_minor": 5
}
