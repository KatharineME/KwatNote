{
 "cells": [
  {
   "cell_type": "code",
   "execution_count": 1,
   "id": "dcba68e4",
   "metadata": {},
   "outputs": [],
   "source": [
    "using Revise\n",
    "using BenchmarkTools"
   ]
  },
  {
   "cell_type": "code",
   "execution_count": 2,
   "id": "70385d15",
   "metadata": {},
   "outputs": [
    {
     "name": "stderr",
     "output_type": "stream",
     "text": [
      "┌ Info: Precompiling PkgRepository [b1bf3a08-85ea-42c4-9d3d-993f577bbb34]\n",
      "└ @ Base loading.jl:1342\n"
     ]
    }
   ],
   "source": [
    "using Pkg\n",
    "using TOML\n",
    "using UUIDs\n",
    "\n",
    "using PkgRepository"
   ]
  },
  {
   "cell_type": "code",
   "execution_count": 3,
   "id": "d96937e9",
   "metadata": {},
   "outputs": [],
   "source": [
    "ro = \"/Users/kwat/craft/\"\n",
    "\n",
    "sk_ = [\"TemplatePkgRepository.jl\", \"CleanCode.jl\"]\n",
    "\n",
    ";"
   ]
  },
  {
   "cell_type": "code",
   "execution_count": 12,
   "id": "aae28236",
   "metadata": {},
   "outputs": [
    {
     "name": "stdout",
     "output_type": "stream",
     "text": [
      "--------------------------------------------------------------------------------\n",
      "/Users/kwat/craft/pro/compare.pro/input/gene_set.pro\n",
      "Checking Project.toml\n",
      "ErrorException(\"missing [\\\"name\\\", \\\"uuid\\\", \\\"version\\\", \\\"authors\\\"]\")\n"
     ]
    },
    {
     "name": "stderr",
     "output_type": "stream",
     "text": [
      "\u001b[32m\u001b[1m  Activating\u001b[22m\u001b[39m environment at `~/craft/pro/compare.pro/input/gene_set.pro/Project.toml`\n",
      "\u001b[32m\u001b[1m    Updating\u001b[22m\u001b[39m registry at `~/.julia/registries/General`\n"
     ]
    },
    {
     "ename": "LoadError",
     "evalue": "expected package `VectorExtension [5dc7f3b2]` to be registered",
     "output_type": "error",
     "traceback": [
      "expected package `VectorExtension [5dc7f3b2]` to be registered",
      "",
      "Stacktrace:",
      "  [1] pkgerror(msg::String)",
      "    @ Pkg.Types /private/tmp/julia-20211007-28174-wety46/julia-1.6.3/usr/share/julia/stdlib/v1.6/Pkg/src/Types.jl:55",
      "  [2] check_registered(ctx::Pkg.Types.Context, pkgs::Vector{Pkg.Types.PackageSpec})",
      "    @ Pkg.Operations /private/tmp/julia-20211007-28174-wety46/julia-1.6.3/usr/share/julia/stdlib/v1.6/Pkg/src/Operations.jl:1157",
      "  [3] up(ctx::Pkg.Types.Context, pkgs::Vector{Pkg.Types.PackageSpec}, level::Pkg.Types.UpgradeLevel)",
      "    @ Pkg.Operations /private/tmp/julia-20211007-28174-wety46/julia-1.6.3/usr/share/julia/stdlib/v1.6/Pkg/src/Operations.jl:1321",
      "  [4] up(ctx::Pkg.Types.Context, pkgs::Vector{Pkg.Types.PackageSpec}; level::Pkg.Types.UpgradeLevel, mode::Pkg.Types.PackageMode, update_registry::Bool, kwargs::Base.Iterators.Pairs{Symbol, IJulia.IJuliaStdio{Base.PipeEndpoint}, Tuple{Symbol}, NamedTuple{(:io,), Tuple{IJulia.IJuliaStdio{Base.PipeEndpoint}}}})",
      "    @ Pkg.API /private/tmp/julia-20211007-28174-wety46/julia-1.6.3/usr/share/julia/stdlib/v1.6/Pkg/src/API.jl:261",
      "  [5] up(pkgs::Vector{Pkg.Types.PackageSpec}; io::IJulia.IJuliaStdio{Base.PipeEndpoint}, kwargs::Base.Iterators.Pairs{Union{}, Union{}, Tuple{}, NamedTuple{(), Tuple{}}})",
      "    @ Pkg.API /private/tmp/julia-20211007-28174-wety46/julia-1.6.3/usr/share/julia/stdlib/v1.6/Pkg/src/API.jl:80",
      "  [6] up(pkgs::Vector{Pkg.Types.PackageSpec})",
      "    @ Pkg.API /private/tmp/julia-20211007-28174-wety46/julia-1.6.3/usr/share/julia/stdlib/v1.6/Pkg/src/API.jl:78",
      "  [7] up(; name::Nothing, uuid::Nothing, version::Nothing, url::Nothing, rev::Nothing, path::Nothing, mode::Pkg.Types.PackageMode, subdir::Nothing, kwargs::Base.Iterators.Pairs{Union{}, Union{}, Tuple{}, NamedTuple{(), Tuple{}}})",
      "    @ Pkg.API /private/tmp/julia-20211007-28174-wety46/julia-1.6.3/usr/share/julia/stdlib/v1.6/Pkg/src/API.jl:96",
      "  [8] up()",
      "    @ Pkg.API /private/tmp/julia-20211007-28174-wety46/julia-1.6.3/usr/share/julia/stdlib/v1.6/Pkg/src/API.jl:88",
      "  [9] top-level scope",
      "    @ In[12]:31",
      " [10] eval",
      "    @ ./boot.jl:360 [inlined]",
      " [11] include_string(mapexpr::typeof(REPL.softscope), mod::Module, code::String, filename::String)",
      "    @ Base ./loading.jl:1116"
     ]
    }
   ],
   "source": [
    "for (ro, di_, fi_) in walkdir(ro; topdown = false)\n",
    "\n",
    "    na = splitdir(ro)[2]\n",
    "\n",
    "    if \"Project.toml\" in fi_\n",
    "\n",
    "        if any(na == sk for sk in sk_)\n",
    "\n",
    "            continue\n",
    "\n",
    "        end\n",
    "\n",
    "        println(\"-\"^80)\n",
    "\n",
    "        println(ro)\n",
    "        \n",
    "        try\n",
    "            \n",
    "            error_project_toml(ro, splitdir(ro)[2])\n",
    "            \n",
    "            export_nb(ro)\n",
    "            \n",
    "        catch er\n",
    "            \n",
    "            println(er)\n",
    "            \n",
    "        end\n",
    "\n",
    "        Pkg.activate(ro)\n",
    "\n",
    "        Pkg.update()\n",
    "\n",
    "        #Pkg.test()\n",
    "\n",
    "    end\n",
    "\n",
    "end"
   ]
  }
 ],
 "metadata": {
  "@webio": {
   "lastCommId": null,
   "lastKernelId": null
  },
  "kernelspec": {
   "display_name": "Julia 1.6.3",
   "language": "julia",
   "name": "julia-1.6"
  },
  "language_info": {
   "file_extension": ".jl",
   "mimetype": "application/julia",
   "name": "julia",
   "version": "1.6.3"
  }
 },
 "nbformat": 4,
 "nbformat_minor": 5
}
