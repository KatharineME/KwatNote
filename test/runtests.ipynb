{
 "cells": [
  {
   "outputs": [],
   "cell_type": "code",
   "source": [
    "using Kata\n",
    "\n",
    "using BioLab"
   ],
   "id": "efccc025",
   "metadata": {},
   "execution_count": null
  },
  {
   "outputs": [],
   "cell_type": "code",
   "source": [
    "te = BioLab.Path.make_temporary(\"Kata.test\")"
   ],
   "id": "a7640e69",
   "metadata": {},
   "execution_count": null
  },
  {
   "cell_type": "markdown",
   "source": [
    "## make\n",
    "## format\n",
    "## call"
   ],
   "id": "a78e3d58-b022-4c32-b7b4-dad815619300",
   "metadata": {}
  },
  {
   "outputs": [],
   "cell_type": "code",
   "source": [
    "for ex in (\".jl\", \".pro\")\n",
    "\n",
    "    wh = \"What$ex\"\n",
    "\n",
    "    cd(te)\n",
    "\n",
    "    Kata.make(wh)\n",
    "\n",
    "    run(`tree -a`)\n",
    "\n",
    "    cd(wh)\n",
    "\n",
    "    Kata.format()\n",
    "\n",
    "    for co in (\"update\", \"run\")\n",
    "\n",
    "        Kata.call(co)\n",
    "\n",
    "    end\n",
    "\n",
    "end"
   ],
   "id": "a9682690",
   "metadata": {},
   "execution_count": null
  }
 ],
 "nbformat_minor": 5,
 "metadata": {
  "language_info": {
   "file_extension": ".jl",
   "mimetype": "application/julia",
   "name": "julia",
   "version": "1.8.5"
  },
  "@webio": {
   "lastKernelId": null,
   "lastCommId": null
  },
  "kernelspec": {
   "name": "julia-1.8",
   "display_name": "Julia 1.8.5",
   "language": "julia"
  }
 },
 "nbformat": 4
}
