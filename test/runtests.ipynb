{
 "cells": [
  {
   "cell_type": "code",
   "execution_count": 1,
   "id": "d4796b89",
   "metadata": {},
   "outputs": [
    {
     "name": "stdout",
     "output_type": "stream",
     "text": [
      "Made /Users/kwat/Downloads/PkgRepository.test/.\n"
     ]
    }
   ],
   "source": [
    "TE = joinpath(homedir(), \"Downloads\", \"PkgRepository.test\", \"\")\n",
    "\n",
    "if isdir(TE)\n",
    "\n",
    "    rm(TE; recursive = true)\n",
    "\n",
    "end\n",
    "\n",
    "mkdir(TE)\n",
    "\n",
    "println(\"Made \", TE, \".\")"
   ]
  },
  {
   "cell_type": "code",
   "execution_count": 2,
   "id": "3a6f745f",
   "metadata": {},
   "outputs": [],
   "source": [
    "using Revise"
   ]
  },
  {
   "cell_type": "markdown",
   "id": "982914fd",
   "metadata": {},
   "source": [
    "---"
   ]
  },
  {
   "cell_type": "code",
   "execution_count": 3,
   "id": "cede75ed",
   "metadata": {},
   "outputs": [
    {
     "name": "stderr",
     "output_type": "stream",
     "text": [
      "┌ Info: Precompiling PkgRepository [63cd5914-34c6-4c73-bccc-fa14824c6dbc]\n",
      "└ @ Base loading.jl:1342\n"
     ]
    }
   ],
   "source": [
    "using PkgRepository"
   ]
  },
  {
   "cell_type": "code",
   "execution_count": 4,
   "id": "8a8ce8cf",
   "metadata": {},
   "outputs": [
    {
     "data": {
      "text/plain": [
       "\"/Users/kwat/craft/tool/cli/PkgRepository.jl\""
      ]
     },
     "execution_count": 4,
     "metadata": {},
     "output_type": "execute_result"
    }
   ],
   "source": [
    "get_root_path()"
   ]
  },
  {
   "cell_type": "code",
   "execution_count": 5,
   "id": "33af4fe0",
   "metadata": {},
   "outputs": [
    {
     "data": {
      "text/plain": [
       "\"/Users/kwat/craft/tool/cli/PkgRepository.jl/TemplatePkgRepository.jl/\""
      ]
     },
     "execution_count": 5,
     "metadata": {},
     "output_type": "execute_result"
    }
   ],
   "source": [
    "get_template_path()"
   ]
  },
  {
   "cell_type": "code",
   "execution_count": 6,
   "id": "7b13edbd",
   "metadata": {},
   "outputs": [
    {
     "data": {
      "text/plain": [
       "2-element Vector{String}:\n",
       " \"KwatMDPhD\"\n",
       " \"kwat.me@icloud.com\""
      ]
     },
     "execution_count": 6,
     "metadata": {},
     "output_type": "execute_result"
    }
   ],
   "source": [
    "get_git_user_information()"
   ]
  },
  {
   "cell_type": "code",
   "execution_count": 7,
   "id": "2be72e1c",
   "metadata": {},
   "outputs": [
    {
     "data": {
      "text/plain": [
       "\"/Users/kwat/Downloads/PkgRepository.test/TestPackage\""
      ]
     },
     "execution_count": 7,
     "metadata": {},
     "output_type": "execute_result"
    }
   ],
   "source": [
    "pk = joinpath(TE, \"TestPackage\")"
   ]
  },
  {
   "cell_type": "code",
   "execution_count": 8,
   "id": "09f7db4c",
   "metadata": {},
   "outputs": [
    {
     "name": "stdout",
     "output_type": "stream",
     "text": [
      "Making /Users/kwat/Downloads/PkgRepository.test/TestPackage\n"
     ]
    },
    {
     "data": {
      "text/plain": [
       "\"/Users/kwat/Downloads/PkgRepository.test/TestPackage\""
      ]
     },
     "execution_count": 8,
     "metadata": {},
     "output_type": "execute_result"
    }
   ],
   "source": [
    "make(pk)"
   ]
  },
  {
   "cell_type": "code",
   "execution_count": 9,
   "id": "839739b0",
   "metadata": {},
   "outputs": [
    {
     "name": "stdout",
     "output_type": "stream",
     "text": [
      "Cheking /Users/kwat/Downloads/PkgRepository.test/TestPackage\n",
      "\n",
      "================================================================================\n",
      "diff --recursive --exclude-from /Users/kwat/craft/tool/cli/PkgRepository.jl/diff_exclude /Users/kwat/craft/tool/cli/PkgRepository.jl/TemplatePkgRepository.jl/Project.toml /Users/kwat/Downloads/PkgRepository.test/TestPackage/Project.toml\n",
      "1c1\n",
      "< name = \"TemplatePkgRepository\"\n",
      "---\n",
      "> name = \"TestPackage\"\n",
      "3c3\n",
      "< authors = [\"GIT_USER_NAME <GIT_USER_EMAIL>\"]\n",
      "---\n",
      "> authors = [\"KwatMDPhD <kwat.me@icloud.com>\"]\n",
      "\n",
      "================================================================================\n",
      "diff --recursive --exclude-from /Users/kwat/craft/tool/cli/PkgRepository.jl/diff_exclude /Users/kwat/craft/tool/cli/PkgRepository.jl/TemplatePkgRepository.jl/README.md /Users/kwat/Downloads/PkgRepository.test/TestPackage/README.md\n",
      "1c1\n",
      "< # TemplatePkgRepository.jl\n",
      "---\n",
      "> # TestPackage.jl\n",
      "7c7\n",
      "< To report a bug, request a feature, or leave a comment (about anything related to this repository), just [submit an issue](https://github.com/GIT_USER_NAME/TemplatePkgRepository.jl/issues/new/choose).\n",
      "---\n",
      "> To report a bug, request a feature, or leave a comment (about anything related to this repository), just [submit an issue](https://github.com/KwatMDPhD/TestPackage.jl/issues/new/choose).\n",
      "\n",
      "================================================================================\n",
      "Only in /Users/kwat/craft/tool/cli/PkgRepository.jl/TemplatePkgRepository.jl/src: TemplatePkgRepository.jl\n",
      "\n",
      "================================================================================\n",
      "Only in /Users/kwat/Downloads/PkgRepository.test/TestPackage/src: TestPackage.jl\n",
      "\n",
      "================================================================================\n",
      "diff --recursive --exclude-from /Users/kwat/craft/tool/cli/PkgRepository.jl/diff_exclude /Users/kwat/craft/tool/cli/PkgRepository.jl/TemplatePkgRepository.jl/test/runtests.ipynb /Users/kwat/Downloads/PkgRepository.test/TestPackage/test/runtests.ipynb\n",
      "9c9\n",
      "<     \"TE = joinpath(homedir(), \\\"Downloads\\\", \\\"TemplatePkgRepository.test\\\", \\\"\\\")\\n\",\n",
      "---\n",
      ">     \"TE = joinpath(homedir(), \\\"Downloads\\\", \\\"TestPackage.test\\\", \\\"\\\")\\n\",\n",
      "51c51\n",
      "<     \"using TemplatePkgRepository\"\n",
      "---\n",
      ">     \"using TestPackage\"\n",
      "\n",
      "================================================================================\n",
      "diff --recursive --exclude-from /Users/kwat/craft/tool/cli/PkgRepository.jl/diff_exclude /Users/kwat/craft/tool/cli/PkgRepository.jl/TemplatePkgRepository.jl/test/runtests.jl /Users/kwat/Downloads/PkgRepository.test/TestPackage/test/runtests.jl\n",
      "1c1\n",
      "< TE = joinpath(homedir(), \"Downloads\", \"TemplatePkgRepository.test\", \"\")\n",
      "---\n",
      "> TE = joinpath(homedir(), \"Downloads\", \"TestPackage.test\", \"\")\n",
      "15c15\n",
      "< using TemplatePkgRepository\n",
      "---\n",
      "> using TestPackage\n"
     ]
    }
   ],
   "source": [
    "check(pk)"
   ]
  },
  {
   "cell_type": "code",
   "execution_count": 34,
   "id": "53c850bf",
   "metadata": {},
   "outputs": [],
   "source": [
    "using TOML"
   ]
  },
  {
   "cell_type": "code",
   "execution_count": 13,
   "id": "ba6834c3",
   "metadata": {},
   "outputs": [],
   "source": [
    "using Pkg"
   ]
  },
  {
   "cell_type": "code",
   "execution_count": 46,
   "id": "8dc94616",
   "metadata": {
    "scrolled": false
   },
   "outputs": [
    {
     "name": "stdout",
     "output_type": "stream",
     "text": [
      "--------------------------------------------------------------------------------\n",
      "Dict{String, Any}(\"deps\" => Dict{String, Any}(\"CSV\" => \"336ed68f-0bac-5ca0-87d4-7b16caf5d00b\", \"DataFrames\" => \"a93c6f00-e57d-5684-b7b6-d8193f3e46c0\", \"Plotly\" => \"58dd65bb-95f3-509e-9936-c39a10fdeae7\"), \"name\" => \"benchmark\", \"uuid\" => \"ad2c01d0-f0b7-4f5f-8b96-7bd16b28c357\", \"compat\" => Dict(\"julia\" => \"1.6\"), \"authors\" => [\"KwatME <kwat.me@icloud.com>\"], \"version\" => \"0.1.0\")\n",
      "\n",
      "--------------------------------------------------------------------------------\n",
      "Dict{String, Any}(\"deps\" => Dict{String, Any}(\"Kwat\" => \"fb31f113-4a63-4a8e-817a-4bdffc7e605a\"), \"compat\" => Dict(\"julia\" => \"1.6\"))\n",
      "\n",
      "--------------------------------------------------------------------------------\n",
      "\n",
      "--------------------------------------------------------------------------------\n",
      "--------------------------------------------------------------------------------\n",
      "\n",
      "--------------------------------------------------------------------------------\n",
      "\n",
      "--------------------------------------------------------------------------------\n",
      "\n",
      "--------------------------------------------------------------------------------\n",
      "\n",
      "--------------------------------------------------------------------------------\n",
      "\n",
      "--------------------------------------------------------------------------------\n",
      "\n",
      "--------------------------------------------------------------------------------\n",
      "\n",
      "--------------------------------------------------------------------------------\n",
      "\n",
      "--------------------------------------------------------------------------------\n",
      "\n",
      "--------------------------------------------------------------------------------\n",
      "\n",
      "--------------------------------------------------------------------------------\n",
      "\n",
      "--------------------------------------------------------------------------------\n",
      "\n",
      "--------------------------------------------------------------------------------\n",
      "--------------------------------------------------------------------------------\n",
      "--------------------------------------------------------------------------------\n",
      "--------------------------------------------------------------------------------\n",
      "\n",
      "--------------------------------------------------------------------------------\n",
      "\n",
      "--------------------------------------------------------------------------------\n",
      "\n",
      "--------------------------------------------------------------------------------\n",
      "\n",
      "--------------------------------------------------------------------------------\n",
      "\n",
      "--------------------------------------------------------------------------------\n",
      "\n",
      "--------------------------------------------------------------------------------\n",
      "\n",
      "--------------------------------------------------------------------------------\n",
      "\n",
      "--------------------------------------------------------------------------------\n",
      "\n",
      "--------------------------------------------------------------------------------\n",
      "Dict{String, Any}(\"deps\" => Dict{String, Any}(\"FileIO\" => \"5789e2e9-d7fb-5bc7-8068-2c6fae9b9549\", \"FCSFiles\" => \"d76558cf-badf-52d4-a17e-381ab0b0d937\", \"Kwat\" => \"fb31f113-4a63-4a8e-817a-4bdffc7e605a\"), \"compat\" => Dict(\"julia\" => \"1.6\"))\n",
      "\n",
      "--------------------------------------------------------------------------------\n",
      "Dict{String, Any}(\"deps\" => Dict{String, Any}(\"Combinatorics\" => \"861a8166-3701-5b0c-9a16-15d98fcdc6aa\"), \"compat\" => Dict(\"julia\" => \"1.6\"))\n",
      "\n",
      "--------------------------------------------------------------------------------\n"
     ]
    },
    {
     "name": "stderr",
     "output_type": "stream",
     "text": [
      "\u001b[32m\u001b[1m  Activating\u001b[22m\u001b[39m environment at `~/craft/_/_gsea/benchmark/Project.toml`\n",
      "\u001b[32m\u001b[1m  Activating\u001b[22m\u001b[39m environment at `~/craft/medicine/hierarchy/Project.toml`\n",
      "\u001b[32m\u001b[1m  Activating\u001b[22m\u001b[39m environment at `~/craft/tool/FeatureBySample.jl/Project.toml`\n",
      "\u001b[32m\u001b[1m  Activating\u001b[22m\u001b[39m environment at `~/craft/tool/FinalFigure.jl/Project.toml`\n",
      "\u001b[32m\u001b[1m  Activating\u001b[22m\u001b[39m environment at `~/craft/tool/InformationMetric.jl/Project.toml`\n",
      "\u001b[32m\u001b[1m  Activating\u001b[22m\u001b[39m environment at `~/craft/tool/Kwat.jl/Project.toml`\n",
      "\u001b[32m\u001b[1m  Activating\u001b[22m\u001b[39m environment at `~/craft/tool/Moji.jl/Project.toml`\n",
      "\u001b[32m\u001b[1m  Activating\u001b[22m\u001b[39m environment at `~/craft/tool/NumericalNormalization.jl/Project.toml`\n",
      "\u001b[32m\u001b[1m  Activating\u001b[22m\u001b[39m environment at `~/craft/tool/Significance.jl/Project.toml`\n",
      "\u001b[32m\u001b[1m  Activating\u001b[22m\u001b[39m environment at `~/craft/tool/TensorFunction.jl/Project.toml`\n",
      "\u001b[32m\u001b[1m  Activating\u001b[22m\u001b[39m environment at `~/craft/tool/access/FCSAccess.jl/Project.toml`\n",
      "\u001b[32m\u001b[1m  Activating\u001b[22m\u001b[39m environment at `~/craft/tool/access/GCTAccess.jl/Project.toml`\n",
      "\u001b[32m\u001b[1m  Activating\u001b[22m\u001b[39m environment at `~/craft/tool/access/GMTAccess.jl/Project.toml`\n",
      "\u001b[32m\u001b[1m  Activating\u001b[22m\u001b[39m environment at `~/craft/tool/access/PandasAccess.jl/Project.toml`\n",
      "\u001b[32m\u001b[1m  Activating\u001b[22m\u001b[39m environment at `~/craft/tool/access/TableAccess.jl/Project.toml`\n",
      "\u001b[32m\u001b[1m  Activating\u001b[22m\u001b[39m environment at `~/craft/tool/cli/PkgRepository.jl/TemplatePkgRepository.jl/Project.toml`\n",
      "\u001b[32m\u001b[1m  Activating\u001b[22m\u001b[39m environment at `~/craft/tool/cli/PkgRepository.jl/Project.toml`\n",
      "\u001b[32m\u001b[1m  Activating\u001b[22m\u001b[39m environment at `~/craft/tool/extension/ConstantExtension.jl/Project.toml`\n",
      "\u001b[32m\u001b[1m  Activating\u001b[22m\u001b[39m environment at `~/craft/tool/extension/DictExtension.jl/Project.toml`\n",
      "\u001b[32m\u001b[1m  Activating\u001b[22m\u001b[39m environment at `~/craft/tool/extension/PathExtension.jl/Project.toml`\n",
      "\u001b[32m\u001b[1m  Activating\u001b[22m\u001b[39m environment at `~/craft/tool/extension/StatisticsExtension.jl/Project.toml`\n",
      "\u001b[32m\u001b[1m  Activating\u001b[22m\u001b[39m environment at `~/craft/tool/extension/StringExtension.jl/Project.toml`\n",
      "\u001b[32m\u001b[1m  Activating\u001b[22m\u001b[39m environment at `~/craft/tool/extension/TensorExtension.jl/Project.toml`\n",
      "\u001b[32m\u001b[1m  Activating\u001b[22m\u001b[39m environment at `~/craft/tool/extension/VectorExtension.jl/Project.toml`\n",
      "\u001b[32m\u001b[1m  Activating\u001b[22m\u001b[39m environment at `~/craft/workflow/diabetes_mellitus/Project.toml`\n",
      "\u001b[32m\u001b[1m  Activating\u001b[22m\u001b[39m environment at `~/craft/workflow/get_immune_population/Project.toml`\n"
     ]
    }
   ],
   "source": [
    "for (ro, di_, fi_) in walkdir(\"/Users/kwat/craft/\"; topdown=false)\n",
    "    \n",
    "    if \"Project.toml\" in fi_\n",
    "        \n",
    "        println(\"-\" ^ 80)\n",
    "        \n",
    "        if any(occursin(na, splitdir(ro)[2]) for na in [\n",
    "                        \"FeatureSetEnrichment.jl\",\n",
    "                        \"GSEA.jl\",\n",
    "                        \"LeanProject.jl\",\n",
    "                        \"CleanCode.jl\",\n",
    "                        \"only_human\",\n",
    "                        ])\n",
    "            \n",
    "            continue\n",
    "            \n",
    "        end\n",
    "        \n",
    "        Pkg.activate(ro)\n",
    "        \n",
    "        to = joinpath(ro, \"PROJECT.toml\")\n",
    "        \n",
    "        tod = TOML.parsefile(to)\n",
    "        \n",
    "        tod[\"compat\"] = Dict(\"julia\" => \"1.6\")\n",
    "        \n",
    "        open(to, \"w\") do io\n",
    "            \n",
    "           TOML.print(io, tod)\n",
    "            \n",
    "        end\n",
    "        \n",
    "        Pkg.update()\n",
    "        \n",
    "        println()\n",
    "        \n",
    "    end\n",
    "    \n",
    "end"
   ]
  },
  {
   "cell_type": "markdown",
   "id": "20515a22",
   "metadata": {},
   "source": [
    "---"
   ]
  },
  {
   "cell_type": "code",
   "execution_count": null,
   "id": "b3a4ac74",
   "metadata": {},
   "outputs": [],
   "source": [
    "rm(TE; recursive = true)\n",
    "\n",
    "println(\"Removed \", TE, \".\")"
   ]
  }
 ],
 "metadata": {
  "@webio": {
   "lastCommId": null,
   "lastKernelId": null
  },
  "kernelspec": {
   "display_name": "Julia 1.6.3",
   "language": "julia",
   "name": "julia-1.6"
  },
  "language_info": {
   "file_extension": ".jl",
   "mimetype": "application/julia",
   "name": "julia",
   "version": "1.6.3"
  }
 },
 "nbformat": 4,
 "nbformat_minor": 5
}
