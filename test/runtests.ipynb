{
 "cells": [
  {
   "cell_type": "code",
   "execution_count": null,
   "id": "d4796b89",
   "metadata": {},
   "outputs": [],
   "source": [
    "TE = joinpath(homedir(), \"Downloads\", \"PkgRepository.test\", \"\")\n",
    "\n",
    "if isdir(TE)\n",
    "\n",
    "    rm(TE; recursive = true)\n",
    "\n",
    "end\n",
    "\n",
    "mkdir(TE)\n",
    "\n",
    "println(\"Made \", TE, \".\")"
   ]
  },
  {
   "cell_type": "code",
   "execution_count": null,
   "id": "3a6f745f",
   "metadata": {},
   "outputs": [],
   "source": [
    "using Revise\n",
    "using BenchmarkTools"
   ]
  },
  {
   "cell_type": "markdown",
   "id": "982914fd",
   "metadata": {},
   "source": [
    "---"
   ]
  },
  {
   "cell_type": "code",
   "execution_count": null,
   "id": "cede75ed",
   "metadata": {},
   "outputs": [],
   "source": [
    "using PkgRepository"
   ]
  },
  {
   "cell_type": "code",
   "execution_count": null,
   "id": "8a8ce8cf",
   "metadata": {},
   "outputs": [],
   "source": [
    "get_root_path()"
   ]
  },
  {
   "cell_type": "code",
   "execution_count": null,
   "id": "33af4fe0",
   "metadata": {},
   "outputs": [],
   "source": [
    "get_template_path()"
   ]
  },
  {
   "cell_type": "code",
   "execution_count": null,
   "id": "7b13edbd",
   "metadata": {},
   "outputs": [],
   "source": [
    "get_git_user_information()"
   ]
  },
  {
   "cell_type": "code",
   "execution_count": null,
   "id": "2be72e1c",
   "metadata": {},
   "outputs": [],
   "source": [
    "pk = joinpath(TE, \"TestPackage\")"
   ]
  },
  {
   "cell_type": "code",
   "execution_count": null,
   "id": "09f7db4c",
   "metadata": {},
   "outputs": [],
   "source": [
    "make(pk)"
   ]
  },
  {
   "cell_type": "code",
   "execution_count": null,
   "id": "1bc5fa33",
   "metadata": {},
   "outputs": [],
   "source": [
    "error_project_toml(pk)"
   ]
  },
  {
   "cell_type": "code",
   "execution_count": null,
   "id": "839739b0",
   "metadata": {},
   "outputs": [],
   "source": [
    "check(pk)"
   ]
  },
  {
   "cell_type": "code",
   "execution_count": null,
   "id": "25ee65dc",
   "metadata": {},
   "outputs": [],
   "source": [
    "using TOML\n",
    "using UUIDs\n",
    "using Pkg\n",
    "\n",
    "ro = \"/Users/kwat/craft/\"\n",
    "\n",
    "sk_ = [\n",
    "    \"PkgRepository.jl\",\n",
    "    \"TemplatePkgRepository.jl\",\n",
    "    \"GSEA.jl\",\n",
    "    \"LeanProject.jl\",\n",
    "    \"CleanCode.jl\",\n",
    "]"
   ]
  },
  {
   "cell_type": "code",
   "execution_count": null,
   "id": "cd6c3840",
   "metadata": {
    "scrolled": false
   },
   "outputs": [],
   "source": [
    "for (ro, di_, fi_) in walkdir(ro; topdown = false)\n",
    "\n",
    "    if \"Project.toml\" in fi_\n",
    "\n",
    "        if any(occursin(sk, splitdir(ro)[2]) for sk in sk_)\n",
    "\n",
    "            continue\n",
    "\n",
    "        end\n",
    "        \n",
    "        println(\"-\"^80)\n",
    "\n",
    "        println(ro)\n",
    "        \n",
    "        error_project_toml(ro)\n",
    "\n",
    "        nb = joinpath(ro, \"test\", \"runtests.ipynb\")\n",
    "        \n",
    "        run(`jupyter nbconvert --no-prompt --to script $nb`)\n",
    "        \n",
    "        Pkg.activate(ro)\n",
    "        \n",
    "        #Pkg.update()\n",
    "        \n",
    "        Pkg.test()\n",
    "\n",
    "    end\n",
    "\n",
    "end"
   ]
  },
  {
   "cell_type": "markdown",
   "id": "20515a22",
   "metadata": {},
   "source": [
    "---"
   ]
  },
  {
   "cell_type": "code",
   "execution_count": null,
   "id": "b3a4ac74",
   "metadata": {},
   "outputs": [],
   "source": [
    "rm(TE; recursive = true)\n",
    "\n",
    "println(\"Removed \", TE, \".\")"
   ]
  }
 ],
 "metadata": {
  "@webio": {
   "lastCommId": null,
   "lastKernelId": null
  },
  "kernelspec": {
   "display_name": "Julia 1.6.3",
   "language": "julia",
   "name": "julia-1.6"
  },
  "language_info": {
   "file_extension": ".jl",
   "mimetype": "application/julia",
   "name": "julia",
   "version": "1.6.3"
  }
 },
 "nbformat": 4,
 "nbformat_minor": 5
}
