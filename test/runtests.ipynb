{
 "cells": [
  {
   "cell_type": "code",
   "execution_count": null,
   "id": "d4796b89",
   "metadata": {},
   "outputs": [],
   "source": [
    "TE = joinpath(homedir(), \"Downloads\", \"PkgRepository.test\", \"\")\n",
    "\n",
    "if isdir(TE)\n",
    "\n",
    "    rm(TE; recursive = true)\n",
    "\n",
    "end\n",
    "\n",
    "mkdir(TE)\n",
    "\n",
    "println(\"Made \", TE, \".\")"
   ]
  },
  {
   "cell_type": "code",
   "execution_count": null,
   "id": "3a6f745f",
   "metadata": {},
   "outputs": [],
   "source": [
    "using Revise\n",
    "using BenchmarkTools"
   ]
  },
  {
   "cell_type": "markdown",
   "id": "982914fd",
   "metadata": {},
   "source": [
    "---"
   ]
  },
  {
   "cell_type": "code",
   "execution_count": null,
   "id": "cede75ed",
   "metadata": {},
   "outputs": [],
   "source": [
    "using PkgRepository\n",
    "\n",
    "using PathExtension"
   ]
  },
  {
   "cell_type": "code",
   "execution_count": null,
   "id": "34d16c1b",
   "metadata": {},
   "outputs": [],
   "source": [
    "pk = joinpath(TE, \"TestPackage\")"
   ]
  },
  {
   "cell_type": "markdown",
   "id": "9228e25d",
   "metadata": {},
   "source": [
    "## make"
   ]
  },
  {
   "cell_type": "code",
   "execution_count": null,
   "id": "09f7db4c",
   "metadata": {},
   "outputs": [],
   "source": [
    "try\n",
    "\n",
    "    make(pk)\n",
    "\n",
    "catch er\n",
    "\n",
    "    er\n",
    "\n",
    "end"
   ]
  },
  {
   "cell_type": "code",
   "execution_count": null,
   "id": "11a3a3a3",
   "metadata": {},
   "outputs": [],
   "source": [
    "pk = string(pk, \".jl\")\n",
    "\n",
    "make(pk)"
   ]
  },
  {
   "cell_type": "markdown",
   "id": "10b2387f",
   "metadata": {},
   "source": [
    "## error_project_toml"
   ]
  },
  {
   "cell_type": "code",
   "execution_count": null,
   "id": "6362aa7f",
   "metadata": {},
   "outputs": [],
   "source": [
    "try\n",
    "\n",
    "    PkgRepository.error_project_toml(pk, \"Garp\")\n",
    "\n",
    "catch er\n",
    "\n",
    "    er\n",
    "\n",
    "end"
   ]
  },
  {
   "cell_type": "code",
   "execution_count": null,
   "id": "2a9cfdc3",
   "metadata": {},
   "outputs": [],
   "source": [
    "PkgRepository.error_project_toml(pk, get_file_name_without_extension(pk))"
   ]
  },
  {
   "cell_type": "markdown",
   "id": "1e292a45",
   "metadata": {},
   "source": [
    "## separate"
   ]
  },
  {
   "cell_type": "code",
   "execution_count": null,
   "id": "a7d94c08",
   "metadata": {},
   "outputs": [],
   "source": [
    "PkgRepository.separate"
   ]
  },
  {
   "cell_type": "markdown",
   "id": "7cad847c",
   "metadata": {},
   "source": [
    "## check"
   ]
  },
  {
   "cell_type": "code",
   "execution_count": null,
   "id": "839739b0",
   "metadata": {},
   "outputs": [],
   "source": [
    "check(pk)"
   ]
  },
  {
   "cell_type": "markdown",
   "id": "c54a12fa",
   "metadata": {},
   "source": [
    "## export_nb"
   ]
  },
  {
   "cell_type": "code",
   "execution_count": null,
   "id": "6f306490",
   "metadata": {},
   "outputs": [],
   "source": [
    "export_nb(pk)"
   ]
  },
  {
   "cell_type": "markdown",
   "id": "20515a22",
   "metadata": {},
   "source": [
    "---"
   ]
  },
  {
   "cell_type": "code",
   "execution_count": null,
   "id": "b3a4ac74",
   "metadata": {},
   "outputs": [],
   "source": [
    "rm(TE; recursive = true)\n",
    "\n",
    "println(\"Removed \", TE, \".\")"
   ]
  }
 ],
 "metadata": {
  "@webio": {
   "lastCommId": null,
   "lastKernelId": null
  },
  "kernelspec": {
   "display_name": "Julia 1.6.4",
   "language": "julia",
   "name": "julia-1.6"
  },
  "language_info": {
   "file_extension": ".jl",
   "mimetype": "application/julia",
   "name": "julia",
   "version": "1.6.4"
  }
 },
 "nbformat": 4,
 "nbformat_minor": 5
}
