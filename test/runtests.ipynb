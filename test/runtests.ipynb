{
 "cells": [
  {
   "cell_type": "code",
   "execution_count": null,
   "id": "a8384830",
   "metadata": {},
   "outputs": [],
   "source": [
    "TE = joinpath(tempdir(), \"Kata.test\")\n",
    "\n",
    "if isdir(TE)\n",
    "\n",
    "    rm(TE, recursive = true)\n",
    "\n",
    "end\n",
    "\n",
    "mkdir(TE)"
   ]
  },
  {
   "cell_type": "code",
   "execution_count": null,
   "id": "ce40ef9e",
   "metadata": {},
   "outputs": [],
   "source": [
    "using Revise\n",
    "using Kata"
   ]
  },
  {
   "cell_type": "markdown",
   "id": "3fc8766e",
   "metadata": {},
   "source": [
    "---"
   ]
  },
  {
   "cell_type": "code",
   "execution_count": null,
   "id": "24f69517",
   "metadata": {},
   "outputs": [],
   "source": [
    "for pa in [\"~/craft/OnePiece.jl\", \"~/craft/GSEA.jl\", \"~/craft/Kata.jl\"]\n",
    "\n",
    "    Kata.format(pa)\n",
    "\n",
    "end"
   ]
  },
  {
   "cell_type": "code",
   "execution_count": null,
   "id": "a7640e69",
   "metadata": {},
   "outputs": [],
   "source": [
    "wh = joinpath(TE, \"What\")"
   ]
  },
  {
   "cell_type": "markdown",
   "id": "2db9f23b",
   "metadata": {},
   "source": [
    "## make, format, and run"
   ]
  },
  {
   "cell_type": "markdown",
   "id": "598de535",
   "metadata": {},
   "source": [
    "### .jl"
   ]
  },
  {
   "cell_type": "code",
   "execution_count": null,
   "id": "a9682690",
   "metadata": {},
   "outputs": [],
   "source": [
    "jl = \"$wh.jl\"\n",
    "\n",
    "Kata.make(jl)\n",
    "\n",
    "run(`tree -a $jl`)"
   ]
  },
  {
   "cell_type": "code",
   "execution_count": null,
   "id": "d0945071",
   "metadata": {},
   "outputs": [],
   "source": [
    "Kata.format(jl)"
   ]
  },
  {
   "cell_type": "code",
   "execution_count": null,
   "id": "def5a1a3",
   "metadata": {},
   "outputs": [],
   "source": [
    "Kata.run(jl)"
   ]
  },
  {
   "cell_type": "markdown",
   "id": "1b9753b9",
   "metadata": {},
   "source": [
    "### .pro"
   ]
  },
  {
   "cell_type": "code",
   "execution_count": null,
   "id": "69e4ff98",
   "metadata": {},
   "outputs": [],
   "source": [
    "pr = \"$wh.pro\"\n",
    "\n",
    "Kata.make(pr)\n",
    "\n",
    "run(`tree -a $pr`)"
   ]
  },
  {
   "cell_type": "code",
   "execution_count": null,
   "id": "b3498b21",
   "metadata": {},
   "outputs": [],
   "source": [
    "Kata.format(pr)"
   ]
  },
  {
   "cell_type": "code",
   "execution_count": null,
   "id": "cb57970f",
   "metadata": {},
   "outputs": [],
   "source": [
    "Kata.run(pr)"
   ]
  },
  {
   "cell_type": "markdown",
   "id": "55d606ad",
   "metadata": {},
   "source": [
    "---"
   ]
  }
 ],
 "metadata": {
  "@webio": {
   "lastCommId": null,
   "lastKernelId": null
  },
  "kernelspec": {
   "display_name": "Julia 1.7.3",
   "language": "julia",
   "name": "julia-1.7"
  },
  "language_info": {
   "file_extension": ".jl",
   "mimetype": "application/julia",
   "name": "julia",
   "version": "1.7.3"
  }
 },
 "nbformat": 4,
 "nbformat_minor": 5
}
