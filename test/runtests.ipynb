{
 "cells": [
  {
   "outputs": [],
   "cell_type": "code",
   "source": [
    "using BioLab\n",
    "\n",
    "using Kata\n",
    "\n",
    "te = BioLab.Path.make_temporary(\"Kata.test\")"
   ],
   "id": "ed2b4ba7-f6c5-412e-b2d1-ca6098413706",
   "metadata": {},
   "execution_count": null
  },
  {
   "cell_type": "markdown",
   "source": [
    "## make"
   ],
   "id": "c3410f10-b2cd-4b6e-bb67-a4a639823f7a",
   "metadata": {}
  },
  {
   "cell_type": "markdown",
   "source": [
    "## format"
   ],
   "id": "86533a44-1627-46ae-9da3-afa28cffa5c9",
   "metadata": {}
  },
  {
   "cell_type": "markdown",
   "source": [
    "## call"
   ],
   "id": "ee6b9893-6bfc-4435-829e-9b33559ade27",
   "metadata": {}
  },
  {
   "outputs": [],
   "cell_type": "code",
   "source": [
    "for ex in (\".jl\", \".pro\")\n",
    "\n",
    "    BioLab.print_header(ex)\n",
    "\n",
    "    wh = \"What$ex\"\n",
    "\n",
    "    cd(te)\n",
    "\n",
    "    Kata.make(wh)\n",
    "\n",
    "    # @code_warntype Kata.make(wh)\n",
    "\n",
    "    run(`tree -a`)\n",
    "\n",
    "    cd(wh)\n",
    "\n",
    "    Kata.format()\n",
    "\n",
    "    # @code_warntype Kata.format()\n",
    "\n",
    "    for co in (\"update\", \"run\")\n",
    "\n",
    "        Kata.call(co)\n",
    "\n",
    "        # @code_warntype Kata.call(co)\n",
    "\n",
    "    end\n",
    "\n",
    "end"
   ],
   "id": "a9682690",
   "metadata": {},
   "execution_count": null
  }
 ],
 "nbformat_minor": 5,
 "metadata": {
  "language_info": {
   "file_extension": ".jl",
   "mimetype": "application/julia",
   "name": "julia",
   "version": "1.8.5"
  },
  "@webio": {
   "lastKernelId": null,
   "lastCommId": null
  },
  "kernelspec": {
   "name": "julia-1.8",
   "display_name": "Julia 1.8.5",
   "language": "julia"
  }
 },
 "nbformat": 4
}
