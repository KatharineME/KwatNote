{
 "cells": [
  {
   "cell_type": "code",
   "execution_count": null,
   "id": "a8384830",
   "metadata": {},
   "outputs": [],
   "source": [
    "TE = joinpath(tempdir(), \"Kata.test\")\n",
    "\n",
    "if isdir(TE)\n",
    "\n",
    "    rm(TE, recursive = true)\n",
    "\n",
    "end\n",
    "\n",
    "mkdir(TE)"
   ]
  },
  {
   "cell_type": "code",
   "execution_count": null,
   "id": "ce40ef9e",
   "metadata": {},
   "outputs": [],
   "source": [
    "#using Revise\n",
    "using Kata"
   ]
  },
  {
   "cell_type": "markdown",
   "id": "3fc8766e",
   "metadata": {},
   "source": [
    "---"
   ]
  },
  {
   "cell_type": "code",
   "execution_count": null,
   "id": "cbc4d5a8",
   "metadata": {},
   "outputs": [],
   "source": [
    "pk = joinpath(TE, \"APackage\")"
   ]
  },
  {
   "cell_type": "markdown",
   "id": "2db9f23b",
   "metadata": {},
   "source": [
    "## make"
   ]
  },
  {
   "cell_type": "code",
   "execution_count": null,
   "id": "37876c18",
   "metadata": {},
   "outputs": [],
   "source": [
    "try\n",
    "\n",
    "    Kata.make(pk)\n",
    "\n",
    "catch er\n",
    "\n",
    "    println(er)\n",
    "\n",
    "end"
   ]
  },
  {
   "cell_type": "code",
   "execution_count": null,
   "id": "f203e65d",
   "metadata": {},
   "outputs": [],
   "source": [
    "pk = \"$pk$(Kata.EXTENSION)\""
   ]
  },
  {
   "cell_type": "code",
   "execution_count": null,
   "id": "a9682690",
   "metadata": {},
   "outputs": [],
   "source": [
    "Kata.make(pk)"
   ]
  },
  {
   "cell_type": "markdown",
   "id": "47df21bf",
   "metadata": {},
   "source": [
    "## check"
   ]
  },
  {
   "cell_type": "code",
   "execution_count": null,
   "id": "d0945071",
   "metadata": {},
   "outputs": [],
   "source": [
    "Kata.check(pk)"
   ]
  },
  {
   "cell_type": "markdown",
   "id": "604f187d",
   "metadata": {},
   "source": [
    "## run"
   ]
  },
  {
   "cell_type": "code",
   "execution_count": null,
   "id": "def5a1a3",
   "metadata": {},
   "outputs": [],
   "source": [
    "for sk in [true, false]\n",
    "\n",
    "    Kata.run(pk, skip_run = sk)\n",
    "\n",
    "end"
   ]
  },
  {
   "cell_type": "markdown",
   "id": "55d606ad",
   "metadata": {},
   "source": [
    "---"
   ]
  }
 ],
 "metadata": {
  "@webio": {
   "lastCommId": null,
   "lastKernelId": null
  },
  "kernelspec": {
   "display_name": "Julia 1.7.3",
   "language": "julia",
   "name": "julia-1.7"
  },
  "language_info": {
   "file_extension": ".jl",
   "mimetype": "application/julia",
   "name": "julia",
   "version": "1.7.3"
  }
 },
 "nbformat": 4,
 "nbformat_minor": 5
}
