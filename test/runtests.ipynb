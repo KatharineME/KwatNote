{
 "cells": [
  {
   "cell_type": "code",
   "execution_count": null,
   "id": "d4796b89",
   "metadata": {},
   "outputs": [],
   "source": [
    "TE = joinpath(homedir(), \"Downloads\", \"PkgRepository.test\", \"\")\n",
    "\n",
    "if isdir(TE)\n",
    "\n",
    "    rm(TE; recursive = true)\n",
    "\n",
    "end\n",
    "\n",
    "mkdir(TE)\n",
    "\n",
    "println(\"Made \", TE, \".\")"
   ]
  },
  {
   "cell_type": "code",
   "execution_count": null,
   "id": "3a6f745f",
   "metadata": {},
   "outputs": [],
   "source": [
    "using Revise\n",
    "using BenchmarkTools"
   ]
  },
  {
   "cell_type": "markdown",
   "id": "982914fd",
   "metadata": {},
   "source": [
    "---"
   ]
  },
  {
   "cell_type": "code",
   "execution_count": null,
   "id": "cede75ed",
   "metadata": {},
   "outputs": [],
   "source": [
    "using PkgRepository"
   ]
  },
  {
   "cell_type": "markdown",
   "id": "49b886d8",
   "metadata": {},
   "source": [
    "## get_root_path"
   ]
  },
  {
   "cell_type": "code",
   "execution_count": null,
   "id": "8a8ce8cf",
   "metadata": {},
   "outputs": [],
   "source": [
    "get_root_path()"
   ]
  },
  {
   "cell_type": "markdown",
   "id": "8d47de9a",
   "metadata": {},
   "source": [
    "## get_template_path"
   ]
  },
  {
   "cell_type": "code",
   "execution_count": null,
   "id": "33af4fe0",
   "metadata": {},
   "outputs": [],
   "source": [
    "get_template_path()"
   ]
  },
  {
   "cell_type": "markdown",
   "id": "5a1c9a72",
   "metadata": {},
   "source": [
    "## get_git_user_information"
   ]
  },
  {
   "cell_type": "code",
   "execution_count": null,
   "id": "7b13edbd",
   "metadata": {},
   "outputs": [],
   "source": [
    "get_git_user_information()"
   ]
  },
  {
   "cell_type": "markdown",
   "id": "3a9df51d",
   "metadata": {},
   "source": [
    "## "
   ]
  },
  {
   "cell_type": "code",
   "execution_count": null,
   "id": "82df6627",
   "metadata": {},
   "outputs": [],
   "source": [
    "pk = get_root_path()"
   ]
  },
  {
   "cell_type": "markdown",
   "id": "2280194b",
   "metadata": {},
   "source": [
    "## read_project_toml"
   ]
  },
  {
   "cell_type": "code",
   "execution_count": null,
   "id": "7258e0c2",
   "metadata": {},
   "outputs": [],
   "source": [
    "read_project_toml(pk)"
   ]
  },
  {
   "cell_type": "markdown",
   "id": "0c4126f7",
   "metadata": {},
   "source": [
    "## error_project_toml"
   ]
  },
  {
   "cell_type": "code",
   "execution_count": null,
   "id": "be317af8",
   "metadata": {},
   "outputs": [],
   "source": [
    "error_project_toml(pk)"
   ]
  },
  {
   "cell_type": "markdown",
   "id": "e6c02c64",
   "metadata": {},
   "source": [
    "## "
   ]
  },
  {
   "cell_type": "code",
   "execution_count": null,
   "id": "34d16c1b",
   "metadata": {},
   "outputs": [],
   "source": [
    "pk = joinpath(TE, \"TestPackage\")"
   ]
  },
  {
   "cell_type": "markdown",
   "id": "9228e25d",
   "metadata": {},
   "source": [
    "## make"
   ]
  },
  {
   "cell_type": "code",
   "execution_count": null,
   "id": "09f7db4c",
   "metadata": {},
   "outputs": [],
   "source": [
    "try\n",
    "\n",
    "    make(pk)\n",
    "\n",
    "catch er\n",
    "\n",
    "    er\n",
    "\n",
    "end"
   ]
  },
  {
   "cell_type": "code",
   "execution_count": null,
   "id": "11a3a3a3",
   "metadata": {},
   "outputs": [],
   "source": [
    "pk = string(pk, \".jl\")\n",
    "\n",
    "make(pk)"
   ]
  },
  {
   "cell_type": "markdown",
   "id": "7cad847c",
   "metadata": {},
   "source": [
    "## check"
   ]
  },
  {
   "cell_type": "code",
   "execution_count": null,
   "id": "839739b0",
   "metadata": {},
   "outputs": [],
   "source": [
    "check(pk)"
   ]
  },
  {
   "cell_type": "markdown",
   "id": "c54a12fa",
   "metadata": {},
   "source": [
    "## export_nb"
   ]
  },
  {
   "cell_type": "code",
   "execution_count": null,
   "id": "6f306490",
   "metadata": {},
   "outputs": [],
   "source": [
    "export_nb(pk)"
   ]
  },
  {
   "cell_type": "markdown",
   "id": "64eb7a91",
   "metadata": {},
   "source": [
    "## "
   ]
  },
  {
   "cell_type": "markdown",
   "id": "20515a22",
   "metadata": {},
   "source": [
    "---"
   ]
  },
  {
   "cell_type": "code",
   "execution_count": null,
   "id": "b3a4ac74",
   "metadata": {},
   "outputs": [],
   "source": [
    "rm(TE; recursive = true)\n",
    "\n",
    "println(\"Removed \", TE, \".\")"
   ]
  }
 ],
 "metadata": {
  "@webio": {
   "lastCommId": null,
   "lastKernelId": null
  },
  "kernelspec": {
   "display_name": "Julia 1.6.3",
   "language": "julia",
   "name": "julia-1.6"
  },
  "language_info": {
   "file_extension": ".jl",
   "mimetype": "application/julia",
   "name": "julia",
   "version": "1.6.3"
  }
 },
 "nbformat": 4,
 "nbformat_minor": 5
}
