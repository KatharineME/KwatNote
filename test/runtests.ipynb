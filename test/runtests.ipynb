{
 "cells": [
  {
   "outputs": [],
   "cell_type": "code",
   "source": [
    "using Kata\n",
    "\n",
    "using OnePiece"
   ],
   "id": "efccc025",
   "metadata": {},
   "execution_count": null
  },
  {
   "outputs": [],
   "cell_type": "code",
   "source": [
    "te = OnePiece.path.make_temporary(\"Kata.test\")"
   ],
   "id": "a7640e69",
   "metadata": {},
   "execution_count": null
  },
  {
   "cell_type": "markdown",
   "source": [
    "## make"
   ],
   "id": "4fb76ddd-3736-429d-9594-8c01c91af6ad",
   "metadata": {}
  },
  {
   "cell_type": "markdown",
   "source": [
    "## format"
   ],
   "id": "0b9c83b8-3684-4499-ba23-074c47711254",
   "metadata": {}
  },
  {
   "cell_type": "markdown",
   "source": [
    "## call"
   ],
   "id": "89da4496-5d4d-4d5d-8709-4b282fed39d4",
   "metadata": {}
  },
  {
   "outputs": [],
   "cell_type": "code",
   "source": [
    "for ex in [\".jl\", \".pro\"]\n",
    "\n",
    "    wh = \"What$ex\"\n",
    "\n",
    "    cd(te)\n",
    "\n",
    "    Kata.make(wh)\n",
    "\n",
    "    run(`tree -a`)\n",
    "\n",
    "    cd(wh)\n",
    "\n",
    "    Kata.format()\n",
    "\n",
    "    for co in [\"update\", \"run\"]\n",
    "\n",
    "        Kata.call(co)\n",
    "\n",
    "    end\n",
    "\n",
    "end"
   ],
   "id": "a9682690",
   "metadata": {},
   "execution_count": null
  }
 ],
 "nbformat_minor": 5,
 "metadata": {
  "language_info": {
   "file_extension": ".jl",
   "mimetype": "application/julia",
   "name": "julia",
   "version": "1.8.2"
  },
  "@webio": {
   "lastKernelId": null,
   "lastCommId": null
  },
  "kernelspec": {
   "name": "julia-1.8",
   "display_name": "Julia 1.7.3",
   "language": "julia"
  }
 },
 "nbformat": 4
}
