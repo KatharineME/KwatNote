{
 "cells": [
  {
   "cell_type": "code",
   "execution_count": null,
   "id": "d4796b89",
   "metadata": {},
   "outputs": [],
   "source": [
    "TE = joinpath(homedir(), \"Downloads\", \"PkgRepository.test\", \"\")\n",
    "\n",
    "if isdir(TE)\n",
    "\n",
    "    rm(TE; recursive = true)\n",
    "\n",
    "end\n",
    "\n",
    "mkdir(TE)\n",
    "\n",
    "println(\"Made \", TE, \".\")"
   ]
  },
  {
   "cell_type": "code",
   "execution_count": null,
   "id": "3a6f745f",
   "metadata": {},
   "outputs": [],
   "source": [
    "using Revise\n",
    "using BenchmarkTools"
   ]
  },
  {
   "cell_type": "markdown",
   "id": "982914fd",
   "metadata": {},
   "source": [
    "---"
   ]
  },
  {
   "cell_type": "code",
   "execution_count": null,
   "id": "cede75ed",
   "metadata": {},
   "outputs": [],
   "source": [
    "using PathExtension\n",
    "\n",
    "using PkgRepository"
   ]
  },
  {
   "cell_type": "code",
   "execution_count": null,
   "id": "34d16c1b",
   "metadata": {},
   "outputs": [],
   "source": [
    "pk = joinpath(TE, \"TestPackage\")"
   ]
  },
  {
   "cell_type": "markdown",
   "id": "9228e25d",
   "metadata": {},
   "source": [
    "## make"
   ]
  },
  {
   "cell_type": "code",
   "execution_count": null,
   "id": "09f7db4c",
   "metadata": {},
   "outputs": [],
   "source": [
    "try\n",
    "\n",
    "    PkgRepository.make(pk)\n",
    "\n",
    "catch er\n",
    "\n",
    "    er\n",
    "\n",
    "end"
   ]
  },
  {
   "cell_type": "code",
   "execution_count": null,
   "id": "11a3a3a3",
   "metadata": {},
   "outputs": [],
   "source": [
    "pk = string(pk, \".jl\")\n",
    "\n",
    "PkgRepository.make(pk)"
   ]
  },
  {
   "cell_type": "markdown",
   "id": "7cad847c",
   "metadata": {},
   "source": [
    "## enforce"
   ]
  },
  {
   "cell_type": "code",
   "execution_count": null,
   "id": "839739b0",
   "metadata": {},
   "outputs": [],
   "source": [
    "PkgRepository.enforce(pk)"
   ]
  },
  {
   "cell_type": "markdown",
   "id": "c54a12fa",
   "metadata": {},
   "source": [
    "## export_nb"
   ]
  },
  {
   "cell_type": "code",
   "execution_count": null,
   "id": "6f306490",
   "metadata": {},
   "outputs": [],
   "source": [
    "PkgRepository.export_nb(pk)"
   ]
  },
  {
   "cell_type": "markdown",
   "id": "20515a22",
   "metadata": {},
   "source": [
    "---"
   ]
  },
  {
   "cell_type": "code",
   "execution_count": null,
   "id": "b3a4ac74",
   "metadata": {},
   "outputs": [],
   "source": [
    "rm(TE; recursive = true)\n",
    "\n",
    "println(\"Removed \", TE, \".\")"
   ]
  }
 ],
 "metadata": {
  "@webio": {
   "lastCommId": null,
   "lastKernelId": null
  },
  "kernelspec": {
   "display_name": "Julia 1.6.4",
   "language": "julia",
   "name": "julia-1.6"
  },
  "language_info": {
   "file_extension": ".jl",
   "mimetype": "application/julia",
   "name": "julia",
   "version": "1.6.4"
  }
 },
 "nbformat": 4,
 "nbformat_minor": 5
}
