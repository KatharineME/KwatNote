{
 "cells": [
  {
   "cell_type": "code",
   "execution_count": null,
   "id": "efccc025",
   "metadata": {},
   "outputs": [],
   "source": [
    "using Kata\n",
    "\n",
    "using OnePiece"
   ]
  },
  {
   "cell_type": "code",
   "execution_count": null,
   "id": "a7640e69",
   "metadata": {},
   "outputs": [],
   "source": [
    "te = OnePiece.path.make_temporary(\"Kata.test\")"
   ]
  },
  {
   "cell_type": "markdown",
   "id": "4fb76ddd-3736-429d-9594-8c01c91af6ad",
   "metadata": {},
   "source": [
    "## make"
   ]
  },
  {
   "cell_type": "markdown",
   "id": "0b9c83b8-3684-4499-ba23-074c47711254",
   "metadata": {},
   "source": [
    "## format"
   ]
  },
  {
   "cell_type": "markdown",
   "id": "89da4496-5d4d-4d5d-8709-4b282fed39d4",
   "metadata": {},
   "source": [
    "## call"
   ]
  },
  {
   "cell_type": "code",
   "execution_count": null,
   "id": "a9682690",
   "metadata": {},
   "outputs": [],
   "source": [
    "for ex in [\".jl\", \".pro\"]\n",
    "\n",
    "    wh = \"What$ex\"\n",
    "\n",
    "    cd(te)\n",
    "\n",
    "    Kata.make(wh)\n",
    "\n",
    "    run(`tree -a`)\n",
    "\n",
    "    cd(wh)\n",
    "\n",
    "    Kata.format()\n",
    "\n",
    "    for co in [\"update\", \"run\"]\n",
    "\n",
    "        Kata.call(co)\n",
    "\n",
    "    end\n",
    "\n",
    "end"
   ]
  }
 ],
 "metadata": {
  "@webio": {
   "lastCommId": null,
   "lastKernelId": null
  },
  "kernelspec": {
   "display_name": "Julia 1.7.3",
   "language": "julia",
   "name": "julia-1.8"
  },
  "language_info": {
   "file_extension": ".jl",
   "mimetype": "application/julia",
   "name": "julia",
   "version": "1.8.0"
  }
 },
 "nbformat": 4,
 "nbformat_minor": 5
}
