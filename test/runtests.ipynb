{
 "cells": [
  {
   "cell_type": "code",
   "execution_count": null,
   "id": "cede75ed",
   "metadata": {},
   "outputs": [],
   "source": [
    "using PkgRepository"
   ]
  },
  {
   "cell_type": "code",
   "execution_count": null,
   "id": "8a8ce8cf",
   "metadata": {},
   "outputs": [],
   "source": [
    "get_root_path()"
   ]
  },
  {
   "cell_type": "code",
   "execution_count": null,
   "id": "33af4fe0",
   "metadata": {},
   "outputs": [],
   "source": [
    "get_template_path()"
   ]
  },
  {
   "cell_type": "code",
   "execution_count": null,
   "id": "7b13edbd",
   "metadata": {},
   "outputs": [],
   "source": [
    "get_git_user_information()"
   ]
  },
  {
   "cell_type": "code",
   "execution_count": null,
   "id": "2be72e1c",
   "metadata": {},
   "outputs": [],
   "source": [
    "pk = joinpath(homedir(), \"Downloads\", \"TestPackage\")\n",
    "\n",
    "if isdir(pk)\n",
    "\n",
    "    rm(pk; recursive = true)\n",
    "\n",
    "end"
   ]
  },
  {
   "cell_type": "code",
   "execution_count": null,
   "id": "09f7db4c",
   "metadata": {},
   "outputs": [],
   "source": [
    "make(pk)"
   ]
  },
  {
   "cell_type": "code",
   "execution_count": null,
   "id": "839739b0",
   "metadata": {},
   "outputs": [],
   "source": [
    "check(pk)"
   ]
  },
  {
   "cell_type": "code",
   "execution_count": null,
   "id": "60f1f372",
   "metadata": {},
   "outputs": [],
   "source": [
    "rm(pk; recursive = true)"
   ]
  }
 ],
 "metadata": {
  "@webio": {
   "lastCommId": null,
   "lastKernelId": null
  },
  "kernelspec": {
   "display_name": "Julia 1.6.3",
   "language": "julia",
   "name": "julia-1.6"
  },
  "language_info": {
   "file_extension": ".jl",
   "mimetype": "application/julia",
   "name": "julia",
   "version": "1.6.3"
  }
 },
 "nbformat": 4,
 "nbformat_minor": 5
}
