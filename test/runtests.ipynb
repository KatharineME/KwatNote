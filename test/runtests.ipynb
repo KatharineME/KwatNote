{
 "cells": [
  {
   "cell_type": "code",
   "execution_count": null,
   "id": "d4796b89",
   "metadata": {},
   "outputs": [],
   "source": [
    "TE = joinpath(homedir(), \"Downloads\", \"PkgRepository.test\", \"\")\n",
    "\n",
    "if isdir(TE)\n",
    "\n",
    "    rm(TE; recursive = true)\n",
    "\n",
    "end\n",
    "\n",
    "mkdir(TE)\n",
    "\n",
    "println(\"Made \", TE, \".\")"
   ]
  },
  {
   "cell_type": "code",
   "execution_count": null,
   "id": "3a6f745f",
   "metadata": {},
   "outputs": [],
   "source": [
    "using Revise"
   ]
  },
  {
   "cell_type": "markdown",
   "id": "982914fd",
   "metadata": {},
   "source": [
    "---"
   ]
  },
  {
   "cell_type": "code",
   "execution_count": null,
   "id": "cede75ed",
   "metadata": {},
   "outputs": [],
   "source": [
    "using PkgRepository"
   ]
  },
  {
   "cell_type": "code",
   "execution_count": null,
   "id": "8a8ce8cf",
   "metadata": {},
   "outputs": [],
   "source": [
    "get_root_path()"
   ]
  },
  {
   "cell_type": "code",
   "execution_count": null,
   "id": "33af4fe0",
   "metadata": {},
   "outputs": [],
   "source": [
    "get_template_path()"
   ]
  },
  {
   "cell_type": "code",
   "execution_count": null,
   "id": "7b13edbd",
   "metadata": {},
   "outputs": [],
   "source": [
    "get_git_user_information()"
   ]
  },
  {
   "cell_type": "code",
   "execution_count": null,
   "id": "2be72e1c",
   "metadata": {},
   "outputs": [],
   "source": [
    "pk = joinpath(TE, \"TestPackage\")"
   ]
  },
  {
   "cell_type": "code",
   "execution_count": null,
   "id": "09f7db4c",
   "metadata": {},
   "outputs": [],
   "source": [
    "make(pk)"
   ]
  },
  {
   "cell_type": "code",
   "execution_count": null,
   "id": "839739b0",
   "metadata": {},
   "outputs": [],
   "source": [
    "check(pk)"
   ]
  },
  {
   "cell_type": "raw",
   "id": "50dd38b5",
   "metadata": {},
   "source": [
    "using Pkg\n",
    "using TOML\n",
    "\n",
    "for (ro, di_, fi_) in walkdir(\"/Users/kwat/craft/\"; topdown=false)\n",
    "    \n",
    "    if \"Project.toml\" in fi_\n",
    "        \n",
    "        println(\"-\" ^ 80)\n",
    "         \n",
    "        if any(occursin(na, splitdir(ro)[2]) for na in [\n",
    "                        \"FeatureSetEnrichment.jl\",\n",
    "                        \"GSEA.jl\",\n",
    "                        \"LeanProject.jl\",\n",
    "                        \"CleanCode.jl\",\n",
    "                        \"only_human\",\n",
    "                        ])\n",
    "            \n",
    "            continue\n",
    "            \n",
    "        end\n",
    "        \n",
    "        println(ro)\n",
    "        \n",
    "        \n",
    "        to = joinpath(ro, \"PROJECT.toml\")\n",
    "        \n",
    "        tod = TOML.parsefile(to)\n",
    "        \n",
    "        ke_ = keys(tod)\n",
    "        \n",
    "        if !all(re in ke_ for re in [\"name\", \"uuid\", \"version\", \"authors\", \"deps\", \"compat\"])\n",
    "            \n",
    "            error(tod)\n",
    "            \n",
    "        end\n",
    "        \n",
    "        if !(\"Revise\" in keys(tod[\"deps\"]))\n",
    "            \n",
    "            println(\"Adding Revise\")\n",
    "            \n",
    "            Pkg.activate(ro)\n",
    "\n",
    "            Pkg.add(\"Revise\")\n",
    "            \n",
    "        end\n",
    "        \n",
    "        ju = \"1.6\"\n",
    "        \n",
    "        if tod[\"compat\"][\"julia\"] != ju\n",
    "            \n",
    "            println(\"Setting compat.julia to be 1.6\")\n",
    "            \n",
    "            tod[\"compat\"][\"julia\"] = ju\n",
    "            \n",
    "            open(to, \"w\") do io\n",
    "                \n",
    "               TOML.print(io, tod)\n",
    "                \n",
    "            end\n",
    "            \n",
    "        end\n",
    "        \n",
    "        \n",
    "    end\n",
    "    \n",
    "end"
   ]
  },
  {
   "cell_type": "markdown",
   "id": "20515a22",
   "metadata": {},
   "source": [
    "---"
   ]
  },
  {
   "cell_type": "code",
   "execution_count": null,
   "id": "b3a4ac74",
   "metadata": {},
   "outputs": [],
   "source": [
    "rm(TE; recursive = true)\n",
    "\n",
    "println(\"Removed \", TE, \".\")"
   ]
  }
 ],
 "metadata": {
  "@webio": {
   "lastCommId": null,
   "lastKernelId": null
  },
  "kernelspec": {
   "display_name": "Julia 1.6.3",
   "language": "julia",
   "name": "julia-1.6"
  },
  "language_info": {
   "file_extension": ".jl",
   "mimetype": "application/julia",
   "name": "julia",
   "version": "1.6.3"
  }
 },
 "nbformat": 4,
 "nbformat_minor": 5
}
