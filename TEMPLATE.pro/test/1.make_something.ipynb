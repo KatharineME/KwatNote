{
 "cells": [
  {
   "cell_type": "code",
   "execution_count": 1,
   "id": "d1f6294b",
   "metadata": {
    "execution": {
     "iopub.execute_input": "2022-07-07T21:32:11.005000Z",
     "iopub.status.busy": "2022-07-07T21:32:10.674000Z",
     "iopub.status.idle": "2022-07-07T21:32:19.815000Z",
     "shell.execute_reply": "2022-07-07T21:32:19.768000Z"
    }
   },
   "outputs": [
    {
     "name": "stderr",
     "output_type": "stream",
     "text": [
      "┌ Info: Precompiling TEMPLATE [033e1703-1880-4940-9ddc-745bff01a2ac]\n",
      "└ @ Base loading.jl:1423\n"
     ]
    }
   ],
   "source": [
    "using TEMPLATE\n",
    "using OnePiece"
   ]
  }
 ],
 "metadata": {
  "kernelspec": {
   "display_name": "Julia 1.7.3",
   "language": "julia",
   "name": "julia-1.7"
  },
  "language_info": {
   "file_extension": ".jl",
   "mimetype": "application/julia",
   "name": "julia",
   "version": "1.7.3"
  }
 },
 "nbformat": 4,
 "nbformat_minor": 5
}
