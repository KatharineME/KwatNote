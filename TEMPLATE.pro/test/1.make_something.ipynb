{
 "cells": [
  {
   "cell_type": "code",
   "execution_count": 1,
   "id": "d1f6294b",
   "metadata": {
    "execution": {
     "iopub.execute_input": "2022-07-07T22:06:38.068000Z",
     "iopub.status.busy": "2022-07-07T22:06:37.677000Z",
     "iopub.status.idle": "2022-07-07T22:06:42.408000Z",
     "shell.execute_reply": "2022-07-07T22:06:42.363000Z"
    }
   },
   "outputs": [],
   "source": [
    "using TEMPLATE\n",
    "using OnePiece"
   ]
  }
 ],
 "metadata": {
  "kernelspec": {
   "display_name": "Julia 1.7.3",
   "language": "julia",
   "name": "julia-1.7"
  },
  "language_info": {
   "file_extension": ".jl",
   "mimetype": "application/julia",
   "name": "julia",
   "version": "1.7.3"
  }
 },
 "nbformat": 4,
 "nbformat_minor": 5
}
