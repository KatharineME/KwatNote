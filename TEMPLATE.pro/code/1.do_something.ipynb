{
 "cells": [
  {
   "cell_type": "code",
   "execution_count": null,
   "id": "036b0bba-b163-4d88-bbc3-0bfb8c498bfe",
   "metadata": {
    "execution": {
     "iopub.execute_input": "2023-02-23T14:48:48.856000Z",
     "iopub.status.busy": "2023-02-23T14:48:48.558000Z",
     "iopub.status.idle": "2023-02-23T14:48:54.139000Z",
     "shell.execute_reply": "2023-02-23T14:48:54.113000Z"
    }
   },
   "outputs": [],
   "source": [
    "include(\"_.jl\")"
   ]
  }
 ],
 "metadata": {
  "kernelspec": {
   "display_name": "Julia 1.8.5",
   "language": "julia",
   "name": "julia-1.8"
  },
  "language_info": {
   "file_extension": ".jl",
   "mimetype": "application/julia",
   "name": "julia",
   "version": "1.8.5"
  }
 },
 "nbformat": 4,
 "nbformat_minor": 5
}
