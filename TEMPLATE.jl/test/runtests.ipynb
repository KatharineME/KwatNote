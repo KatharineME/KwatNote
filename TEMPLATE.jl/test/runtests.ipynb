{
 "cells": [
  {
   "cell_type": "code",
   "execution_count": null,
   "id": "efccc025",
   "metadata": {},
   "outputs": [],
   "source": [
    "using TEMPLATE\n",
    "using OnePiece"
   ]
  },
  {
   "cell_type": "code",
   "execution_count": null,
   "id": "a8384830",
   "metadata": {},
   "outputs": [],
   "source": [
    "TE = OnePiece.path.make_temporary(\"TEMPLATE.test\")"
   ]
  },
  {
   "cell_type": "markdown",
   "id": "3fc8766e",
   "metadata": {},
   "source": [
    "---"
   ]
  },
  {
   "cell_type": "markdown",
   "id": "7568345d",
   "metadata": {},
   "source": [
    "---"
   ]
  }
 ],
 "metadata": {
  "@webio": {
   "lastCommId": null,
   "lastKernelId": null
  },
  "kernelspec": {
   "display_name": "Julia 1.7.3",
   "language": "julia",
   "name": "julia-1.7"
  },
  "language_info": {
   "file_extension": ".jl",
   "mimetype": "application/julia",
   "name": "julia",
   "version": "1.7.3"
  }
 },
 "nbformat": 4,
 "nbformat_minor": 5
}
